{
 "cells": [
  {
   "cell_type": "markdown",
   "id": "1b6f8a14-3341-474c-928e-e3efea2af61b",
   "metadata": {},
   "source": [
    "## WMS-kall fra Python\n",
    "\n",
    "Bounding box-parametre i egen liste, med variabel for hver koordinat. Endring av bbox-verdier via disse variablene.\n",
    "\n",
    "Notebook-fil: [wms-5-parameters-dict-bbox-list.ipynb](wms-5-parameters-dict-bbox-list.ipynb)\n",
    "\n",
    "\n",
    "<br>_NTNU 03.01.2022 Sverre Stikbakke_\n",
    "<br>_NTNU 20.01.2025 Oppdatert url og lagnavn for WMS-tjenesten_"
   ]
  },
  {
   "cell_type": "code",
   "execution_count": 1,
   "id": "83d41772-78f6-4bb8-ae75-a3be6ef8a5d1",
   "metadata": {},
   "outputs": [
    {
     "name": "stdout",
     "output_type": "stream",
     "text": [
      "dict_items([('VERSION', '1.3.0'), ('REQUEST', 'GetMap'), ('CRS', 'EPSG:25832'), ('BBOX', '592000,6741000,652000,6801000'), ('WIDTH', '600'), ('HEIGHT', '600'), ('LAYERS', 'topo'), ('FORMAT', 'image/png'), ('STYLES', 'default')]) \n",
      "\n",
      "['VERSION=1.3.0', 'REQUEST=GetMap', 'CRS=EPSG:25832', 'BBOX=592000,6741000,652000,6801000', 'WIDTH=600', 'HEIGHT=600', 'LAYERS=topo', 'FORMAT=image/png', 'STYLES=default'] \n",
      "\n",
      "VERSION=1.3.0&REQUEST=GetMap&CRS=EPSG:25832&BBOX=592000,6741000,652000,6801000&WIDTH=600&HEIGHT=600&LAYERS=topo&FORMAT=image/png&STYLES=default \n",
      "\n",
      "https://wms.geonorge.no/skwms1/wms.topo?VERSION=1.3.0&REQUEST=GetMap&CRS=EPSG:25832&BBOX=592000,6741000,652000,6801000&WIDTH=600&HEIGHT=600&LAYERS=topo&FORMAT=image/png&STYLES=default\n"
     ]
    }
   ],
   "source": [
    "service_url = 'https://wms.geonorge.no/skwms1/wms.topo'\n",
    "\n",
    "bbox_min_x = 592000\n",
    "bbox_min_y = 6741000\n",
    "bbox_max_x = 652000\n",
    "bbox_max_y = 6801000\n",
    "\n",
    "parameters = {\n",
    "    'VERSION': '1.3.0',\n",
    "    'REQUEST': 'GetMap',\n",
    "    'CRS': 'EPSG:25832',\n",
    "    'BBOX': f'{bbox_min_x},{bbox_min_y},{bbox_max_x},{bbox_max_y}',\n",
    "    'WIDTH': '600',\n",
    "    'HEIGHT': '600',\n",
    "    'LAYERS': 'topo',\n",
    "    'FORMAT': 'image/png',\n",
    "    'STYLES': 'default'\n",
    "}\n",
    "\n",
    "parameters_tuples = parameters.items()\n",
    "parameters_list = ['='.join(x) for x in parameters_tuples]\n",
    "parameters_str = '&'.join(parameters_list) \n",
    "url = service_url + '?' + parameters_str\n",
    "\n",
    "print(parameters_tuples, \"\\n\")\n",
    "print(parameters_list, \"\\n\")\n",
    "print(parameters_str, \"\\n\")\n",
    "print(url)"
   ]
  },
  {
   "cell_type": "code",
   "execution_count": 2,
   "id": "cb390b26-e6ca-4ebb-86fa-ddc1eed26a23",
   "metadata": {},
   "outputs": [
    {
     "name": "stdout",
     "output_type": "stream",
     "text": [
      "https://wms.geonorge.no/skwms1/wms.topo?VERSION=1.3.0&REQUEST=GetMap&CRS=EPSG:25832&BBOX=572000,6741000,632000,6801000&WIDTH=600&HEIGHT=600&LAYERS=topo&FORMAT=image/png&STYLES=default\n"
     ]
    }
   ],
   "source": [
    "bbox_min_x = bbox_min_x - 20000\n",
    "bbox_max_x = bbox_max_x - 20000\n",
    "\n",
    "parameters['BBOX'] = f'{bbox_min_x},{bbox_min_y},{bbox_max_x},{bbox_max_y}'\n",
    "url_mod = service_url + '?' + '&'.join(['='.join(x) for x in parameters.items()])\n",
    "print(url_mod)"
   ]
  }
 ],
 "metadata": {
  "kernelspec": {
   "display_name": "Python 3 (ipykernel)",
   "language": "python",
   "name": "python3"
  },
  "language_info": {
   "codemirror_mode": {
    "name": "ipython",
    "version": 3
   },
   "file_extension": ".py",
   "mimetype": "text/x-python",
   "name": "python",
   "nbconvert_exporter": "python",
   "pygments_lexer": "ipython3",
   "version": "3.13.1"
  }
 },
 "nbformat": 4,
 "nbformat_minor": 5
}
