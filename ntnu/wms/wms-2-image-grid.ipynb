{
 "cells": [
  {
   "cell_type": "markdown",
   "id": "1b6f8a14-3341-474c-928e-e3efea2af61b",
   "metadata": {},
   "source": [
    "## WMS-kall fra Python\n",
    "\n",
    "Viser hvordan resultater av to WMS-kall kan presenteres uten å lagre i egen fil. Bruk av markdown- og html-kode.\n",
    "\n",
    "Notebook-fil: [wms-2-image-grid.ipynb](wms-2-image-grid.ipynb)\n",
    "\n",
    "\n",
    "<br>_NTNU 23.01.2025 Sverre Stikbakke_"
   ]
  },
  {
   "cell_type": "code",
   "execution_count": 1,
   "id": "dd5ddc4c-f725-420e-ac39-ec7211fa9734",
   "metadata": {},
   "outputs": [],
   "source": [
    "# Markdown-modulen inneholder md-funksjonen som genererer html-kode fra markdown-kode. Dette gir mulighet for å bruke verdier fra python-variabler i html-koden.\n",
    "from IPython.display import Markdown as md"
   ]
  },
  {
   "cell_type": "code",
   "execution_count": 2,
   "id": "98c9f735-b672-40a3-b0ee-59a08c6a80b9",
   "metadata": {},
   "outputs": [],
   "source": [
    "service_url = 'https://wms.geonorge.no/skwms1/wms.topo'\n",
    "\n",
    "bbox_1 = '592000,6741000,652000,6801000'\n",
    "bbox_2 = '652000,6741000,712000,6801000'\n",
    "\n",
    "parameters = {\n",
    "    'VERSION': '1.3.0',\n",
    "    'REQUEST': 'GetMap',\n",
    "    'CRS': 'EPSG:25832',\n",
    "    'BBOX': bbox_1,\n",
    "    'WIDTH': '600',\n",
    "    'HEIGHT': '600',\n",
    "    'LAYERS': 'topo',\n",
    "    'FORMAT': 'image/png',\n",
    "    'STYLES': 'default'\n",
    "}"
   ]
  },
  {
   "cell_type": "code",
   "execution_count": 3,
   "id": "fa2d50e6-6634-4e72-a697-8cfddc414062",
   "metadata": {},
   "outputs": [
    {
     "name": "stdout",
     "output_type": "stream",
     "text": [
      "https://wms.geonorge.no/skwms1/wms.topo?VERSION=1.3.0&REQUEST=GetMap&CRS=EPSG:25832&BBOX=592000,6741000,652000,6801000&WIDTH=600&HEIGHT=600&LAYERS=topo&FORMAT=image/png&STYLES=default\n"
     ]
    }
   ],
   "source": [
    "# Kode som setter sammen verdiene fra service_url, bbox-variablene og parameters til en komplett url\n",
    "# (det er brukt python list comprehension her sammen med join-funksjonen)\n",
    "\n",
    "url_1 = service_url + '?' + '&'.join(['='.join(x) for x in parameters.items()])\n",
    "print(url_1)"
   ]
  },
  {
   "cell_type": "code",
   "execution_count": 4,
   "id": "250f20a0-efa3-4e0f-83b6-1ecfc27cbd8b",
   "metadata": {},
   "outputs": [
    {
     "name": "stdout",
     "output_type": "stream",
     "text": [
      "https://wms.geonorge.no/skwms1/wms.topo?VERSION=1.3.0&REQUEST=GetMap&CRS=EPSG:25832&BBOX=652000,6741000,712000,6801000&WIDTH=600&HEIGHT=600&LAYERS=topo&FORMAT=image/png&STYLES=default\n"
     ]
    }
   ],
   "source": [
    "# bytter ut innholdet i BBOX\n",
    "parameters['BBOX'] = bbox_2\n",
    "url_2 = service_url + '?' + '&'.join(['='.join(x) for x in parameters.items()])\n",
    "print(url_2)"
   ]
  },
  {
   "cell_type": "code",
   "execution_count": 5,
   "id": "1b7f5691-1334-49d4-8074-e2b3ca5b9328",
   "metadata": {},
   "outputs": [
    {
     "data": {
      "text/markdown": [
       "\n",
       "<table>\n",
       "    <tr>\n",
       "        <td><img src=https://wms.geonorge.no/skwms1/wms.topo?VERSION=1.3.0&REQUEST=GetMap&CRS=EPSG:25832&BBOX=592000,6741000,652000,6801000&WIDTH=600&HEIGHT=600&LAYERS=topo&FORMAT=image/png&STYLES=default></td>\n",
       "        <td><img src=https://wms.geonorge.no/skwms1/wms.topo?VERSION=1.3.0&REQUEST=GetMap&CRS=EPSG:25832&BBOX=652000,6741000,712000,6801000&WIDTH=600&HEIGHT=600&LAYERS=topo&FORMAT=image/png&STYLES=default></td>\n",
       "    </tr>\n",
       "</table>"
      ],
      "text/plain": [
       "<IPython.core.display.Markdown object>"
      ]
     },
     "execution_count": 5,
     "metadata": {},
     "output_type": "execute_result"
    }
   ],
   "source": [
    "md(f\"\"\"\n",
    "<table>\n",
    "    <tr>\n",
    "        <td><img src={url_1}></td>\n",
    "        <td><img src={url_2}></td>\n",
    "    </tr>\n",
    "</table>\"\"\")"
   ]
  }
 ],
 "metadata": {
  "kernelspec": {
   "display_name": "Python 3 (ipykernel)",
   "language": "python",
   "name": "python3"
  },
  "language_info": {
   "codemirror_mode": {
    "name": "ipython",
    "version": 3
   },
   "file_extension": ".py",
   "mimetype": "text/x-python",
   "name": "python",
   "nbconvert_exporter": "python",
   "pygments_lexer": "ipython3",
   "version": "3.13.1"
  }
 },
 "nbformat": 4,
 "nbformat_minor": 5
}
