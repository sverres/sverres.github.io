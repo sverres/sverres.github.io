{
 "cells": [
  {
   "cell_type": "markdown",
   "id": "1b6f8a14-3341-474c-928e-e3efea2af61b",
   "metadata": {},
   "source": [
    "## WMS-kall fra Python\n",
    "\n",
    "WMS-parametre lagt i python dictionary\n",
    "\n",
    "Notebook-fil: [wms-3-parameters-dict-lesbar.ipynb](wms-3-parameters-dict-lesbar.ipynb)\n",
    "\n",
    "<br>_NTNU 03.01.2022 Sverre Stikbakke_"
   ]
  },
  {
   "cell_type": "code",
   "execution_count": 1,
   "id": "6225cdbe-6764-4939-8a2b-b068642cc396",
   "metadata": {},
   "outputs": [],
   "source": [
    "# requests er et programbibliotek for http-kall\n",
    "\n",
    "import requests"
   ]
  },
  {
   "cell_type": "code",
   "execution_count": 2,
   "id": "83d41772-78f6-4bb8-ae75-a3be6ef8a5d1",
   "metadata": {},
   "outputs": [
    {
     "name": "stdout",
     "output_type": "stream",
     "text": [
      "https://openwms.statkart.no/skwms1/wms.topo4?VERSION=1.3.0&REQUEST=GetMap&CRS=EPSG:25832&BBOX=592000,6741000,652000,6801000&WIDTH=600&HEIGHT=600&LAYERS=topo4_WMS&FORMAT=image/png&STYLES=default\n"
     ]
    }
   ],
   "source": [
    "service_url = 'https://openwms.statkart.no/skwms1/wms.topo4'\n",
    "\n",
    "parameters = {\n",
    "    'VERSION': '1.3.0',\n",
    "    'REQUEST': 'GetMap',\n",
    "    'CRS': 'EPSG:25832',\n",
    "    'BBOX': '592000,6741000,652000,6801000',\n",
    "    'WIDTH': '600',\n",
    "    'HEIGHT': '600',\n",
    "    'LAYERS': 'topo4_WMS',\n",
    "    'FORMAT': 'image/png',\n",
    "    'STYLES': 'default'\n",
    "}\n",
    "\n",
    "parameters_tuples = parameters.items()\n",
    "parameters_list = ['='.join(x) for x in parameters_tuples]\n",
    "parameters_str = '&'.join(parameters_list) \n",
    "url = service_url + '?' + parameters_str\n",
    "\n",
    "print(url)"
   ]
  },
  {
   "cell_type": "code",
   "execution_count": 3,
   "id": "baadfbfa-18f1-40eb-86d1-f183477ac81d",
   "metadata": {},
   "outputs": [],
   "source": [
    "# requests.get() returnerer et response-objekt\n",
    "\n",
    "resp = requests.get(url)"
   ]
  },
  {
   "cell_type": "code",
   "execution_count": 4,
   "id": "de92fb7d-f2cc-47e1-8de4-3b7d542b95db",
   "metadata": {},
   "outputs": [],
   "source": [
    "# innholdet i resp.content skrives til fil\n",
    "\n",
    "if resp.status_code == 200:\n",
    "    with open(\"innlandet.png\", 'wb') as f:\n",
    "        f.write(resp.content)"
   ]
  },
  {
   "cell_type": "markdown",
   "id": "968c3059-ccad-4a80-b281-b70989b03521",
   "metadata": {},
   "source": [
    "![Image](innlandet.png)"
   ]
  }
 ],
 "metadata": {
  "kernelspec": {
   "display_name": "Python 3 (ipykernel)",
   "language": "python",
   "name": "python3"
  },
  "language_info": {
   "codemirror_mode": {
    "name": "ipython",
    "version": 3
   },
   "file_extension": ".py",
   "mimetype": "text/x-python",
   "name": "python",
   "nbconvert_exporter": "python",
   "pygments_lexer": "ipython3",
   "version": "3.9.7"
  }
 },
 "nbformat": 4,
 "nbformat_minor": 5
}
