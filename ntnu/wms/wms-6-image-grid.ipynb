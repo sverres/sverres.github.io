{
 "cells": [
  {
   "cell_type": "markdown",
   "id": "1b6f8a14-3341-474c-928e-e3efea2af61b",
   "metadata": {},
   "source": [
    "## WMS-kall fra Python\n",
    "\n",
    "Viser hvordan resultater av WMS-kall kan presenteres uten å lagre i egen fil. Bruk av markdown- og html-kode.\n",
    "\n",
    "Notebook-fil: [wms-6-image-grid.ipynb](wms-6-image-grid.ipynb)\n",
    "\n",
    "\n",
    "<br>_NTNU 03.01.2022 Sverre Stikbakke_"
   ]
  },
  {
   "cell_type": "code",
   "execution_count": 1,
   "id": "dd5ddc4c-f725-420e-ac39-ec7211fa9734",
   "metadata": {},
   "outputs": [],
   "source": [
    "# Markdown-modulen inneholder md-funksjonen som genererer html-kode fra markdown-kode. Dette gir mulighet for å bruke verdier fra python-variabler i html-koden.\n",
    "from IPython.display import Markdown as md"
   ]
  },
  {
   "cell_type": "code",
   "execution_count": 2,
   "id": "83d41772-78f6-4bb8-ae75-a3be6ef8a5d1",
   "metadata": {},
   "outputs": [
    {
     "name": "stdout",
     "output_type": "stream",
     "text": [
      "https://openwms.statkart.no/skwms1/wms.topo4?VERSION=1.3.0&REQUEST=GetMap&CRS=EPSG:25832&BBOX=592000,6741000,652000,6801000&WIDTH=600&HEIGHT=600&LAYERS=topo4_WMS&FORMAT=image/png&STYLES=default\n"
     ]
    }
   ],
   "source": [
    "service_url = 'https://openwms.statkart.no/skwms1/wms.topo4'\n",
    "\n",
    "bbox_min_x = 592000\n",
    "bbox_min_y = 6741000\n",
    "bbox_max_x = 652000\n",
    "bbox_max_y = 6801000\n",
    "\n",
    "parameters = {\n",
    "    'VERSION': '1.3.0',\n",
    "    'REQUEST': 'GetMap',\n",
    "    'CRS': 'EPSG:25832',\n",
    "    'BBOX': f'{bbox_min_x},{bbox_min_y},{bbox_max_x},{bbox_max_y}',\n",
    "    'WIDTH': '600',\n",
    "    'HEIGHT': '600',\n",
    "    'LAYERS': 'topo4_WMS',\n",
    "    'FORMAT': 'image/png',\n",
    "    'STYLES': 'default'\n",
    "}\n",
    "\n",
    "parameters_tuples = parameters.items()\n",
    "parameters_list = ['='.join(x) for x in parameters_tuples]\n",
    "parameters_str = '&'.join(parameters_list) \n",
    "url = service_url + '?' + parameters_str\n",
    "\n",
    "print(url)"
   ]
  },
  {
   "cell_type": "code",
   "execution_count": 3,
   "id": "cb390b26-e6ca-4ebb-86fa-ddc1eed26a23",
   "metadata": {},
   "outputs": [
    {
     "name": "stdout",
     "output_type": "stream",
     "text": [
      "https://openwms.statkart.no/skwms1/wms.topo4?VERSION=1.3.0&REQUEST=GetMap&CRS=EPSG:25832&BBOX=492000,6741000,552000,6801000&WIDTH=600&HEIGHT=600&LAYERS=topo4_WMS&FORMAT=image/png&STYLES=default\n"
     ]
    }
   ],
   "source": [
    "parameters['BBOX'] = '492000,6741000,552000,6801000'\n",
    "url_mod = service_url + '?' + '&'.join(['='.join(x) for x in parameters.items()])\n",
    "print(url_mod)"
   ]
  },
  {
   "cell_type": "code",
   "execution_count": 4,
   "id": "bb7005ce-f0df-4581-a9c5-db0a84428d4b",
   "metadata": {},
   "outputs": [
    {
     "name": "stdout",
     "output_type": "stream",
     "text": [
      "WMS-kall: https://openwms.statkart.no/skwms1/wms.topo4?VERSION=1.3.0&REQUEST=GetMap&CRS=EPSG:25832&BBOX=592000,6741000,652000,6801000&WIDTH=600&HEIGHT=600&LAYERS=topo4_WMS&FORMAT=image/png&STYLES=default\n"
     ]
    },
    {
     "data": {
      "text/markdown": [
       "![](https://openwms.statkart.no/skwms1/wms.topo4?VERSION=1.3.0&REQUEST=GetMap&CRS=EPSG:25832&BBOX=592000,6741000,652000,6801000&WIDTH=600&HEIGHT=600&LAYERS=topo4_WMS&FORMAT=image/png&STYLES=default)"
      ],
      "text/plain": [
       "<IPython.core.display.Markdown object>"
      ]
     },
     "execution_count": 4,
     "metadata": {},
     "output_type": "execute_result"
    }
   ],
   "source": [
    "# Ved hjelp av f-string-formuleringen her vil innholdet i url-variabelen ekspanderes til en string-verdi.\n",
    "print(f\"WMS-kall: {url}\")\n",
    "md(f\"![]({url})\")"
   ]
  },
  {
   "cell_type": "code",
   "execution_count": 5,
   "id": "32808107-8a97-4f3a-9c9a-00dd68fdeba1",
   "metadata": {},
   "outputs": [
    {
     "data": {
      "text/markdown": [
       "![](https://openwms.statkart.no/skwms1/wms.topo4?VERSION=1.3.0&REQUEST=GetMap&CRS=EPSG:25832&BBOX=592000,6741000,652000,6801000&WIDTH=600&HEIGHT=600&LAYERS=topo4_WMS&FORMAT=image/png&STYLES=default)|![](https://openwms.statkart.no/skwms1/wms.topo4?VERSION=1.3.0&REQUEST=GetMap&CRS=EPSG:25832&BBOX=592000,6741000,652000,6801000&WIDTH=600&HEIGHT=600&LAYERS=topo4_WMS&FORMAT=image/png&STYLES=default)"
      ],
      "text/plain": [
       "<IPython.core.display.Markdown object>"
      ]
     },
     "execution_count": 5,
     "metadata": {},
     "output_type": "execute_result"
    }
   ],
   "source": [
    "# Markdown-kode for tabell med en rad\n",
    "md_kode = f\"![]({url})|![]({url})\"\n",
    "# html-generering\n",
    "md(md_kode)"
   ]
  },
  {
   "cell_type": "code",
   "execution_count": 6,
   "id": "cbcb20bb-d2d3-469d-b74e-573a366d1729",
   "metadata": {},
   "outputs": [
    {
     "data": {
      "text/markdown": [
       "![](https://openwms.statkart.no/skwms1/wms.topo4?VERSION=1.3.0&REQUEST=GetMap&CRS=EPSG:25832&BBOX=592000,6741000,652000,6801000&WIDTH=600&HEIGHT=600&LAYERS=topo4_WMS&FORMAT=image/png&STYLES=default)|![](https://openwms.statkart.no/skwms1/wms.topo4?VERSION=1.3.0&REQUEST=GetMap&CRS=EPSG:25832&BBOX=592000,6741000,652000,6801000&WIDTH=600&HEIGHT=600&LAYERS=topo4_WMS&FORMAT=image/png&STYLES=default)|![](https://openwms.statkart.no/skwms1/wms.topo4?VERSION=1.3.0&REQUEST=GetMap&CRS=EPSG:25832&BBOX=592000,6741000,652000,6801000&WIDTH=600&HEIGHT=600&LAYERS=topo4_WMS&FORMAT=image/png&STYLES=default)<br>![](https://openwms.statkart.no/skwms1/wms.topo4?VERSION=1.3.0&REQUEST=GetMap&CRS=EPSG:25832&BBOX=592000,6741000,652000,6801000&WIDTH=600&HEIGHT=600&LAYERS=topo4_WMS&FORMAT=image/png&STYLES=default)|![](https://openwms.statkart.no/skwms1/wms.topo4?VERSION=1.3.0&REQUEST=GetMap&CRS=EPSG:25832&BBOX=592000,6741000,652000,6801000&WIDTH=600&HEIGHT=600&LAYERS=topo4_WMS&FORMAT=image/png&STYLES=default)|![](https://openwms.statkart.no/skwms1/wms.topo4?VERSION=1.3.0&REQUEST=GetMap&CRS=EPSG:25832&BBOX=592000,6741000,652000,6801000&WIDTH=600&HEIGHT=600&LAYERS=topo4_WMS&FORMAT=image/png&STYLES=default)<br>![](https://openwms.statkart.no/skwms1/wms.topo4?VERSION=1.3.0&REQUEST=GetMap&CRS=EPSG:25832&BBOX=592000,6741000,652000,6801000&WIDTH=600&HEIGHT=600&LAYERS=topo4_WMS&FORMAT=image/png&STYLES=default)|![](https://openwms.statkart.no/skwms1/wms.topo4?VERSION=1.3.0&REQUEST=GetMap&CRS=EPSG:25832&BBOX=592000,6741000,652000,6801000&WIDTH=600&HEIGHT=600&LAYERS=topo4_WMS&FORMAT=image/png&STYLES=default)|![](https://openwms.statkart.no/skwms1/wms.topo4?VERSION=1.3.0&REQUEST=GetMap&CRS=EPSG:25832&BBOX=592000,6741000,652000,6801000&WIDTH=600&HEIGHT=600&LAYERS=topo4_WMS&FORMAT=image/png&STYLES=default)"
      ],
      "text/plain": [
       "<IPython.core.display.Markdown object>"
      ]
     },
     "execution_count": 6,
     "metadata": {},
     "output_type": "execute_result"
    }
   ],
   "source": [
    "# Markdown-kode for 3x3 tabell\n",
    "md(f\"![]({url})|![]({url})|![]({url})<br>![]({url})|![]({url})|![]({url})<br>![]({url})|![]({url})|![]({url})\")"
   ]
  },
  {
   "cell_type": "code",
   "execution_count": 7,
   "id": "5dd9f261-c3db-4166-848e-7e8499fb2c91",
   "metadata": {},
   "outputs": [
    {
     "data": {
      "text/markdown": [
       "\n",
       "<table>\n",
       "    <tr>\n",
       "        <td><img src=https://openwms.statkart.no/skwms1/wms.topo4?VERSION=1.3.0&REQUEST=GetMap&CRS=EPSG:25832&BBOX=592000,6741000,652000,6801000&WIDTH=600&HEIGHT=600&LAYERS=topo4_WMS&FORMAT=image/png&STYLES=default></td>\n",
       "        <td><img src=https://openwms.statkart.no/skwms1/wms.topo4?VERSION=1.3.0&REQUEST=GetMap&CRS=EPSG:25832&BBOX=592000,6741000,652000,6801000&WIDTH=600&HEIGHT=600&LAYERS=topo4_WMS&FORMAT=image/png&STYLES=default></td>\n",
       "        <td><img src=https://openwms.statkart.no/skwms1/wms.topo4?VERSION=1.3.0&REQUEST=GetMap&CRS=EPSG:25832&BBOX=592000,6741000,652000,6801000&WIDTH=600&HEIGHT=600&LAYERS=topo4_WMS&FORMAT=image/png&STYLES=default></td>\n",
       "    </tr>\n",
       "    <tr>\n",
       "        <td><img src=https://openwms.statkart.no/skwms1/wms.topo4?VERSION=1.3.0&REQUEST=GetMap&CRS=EPSG:25832&BBOX=592000,6741000,652000,6801000&WIDTH=600&HEIGHT=600&LAYERS=topo4_WMS&FORMAT=image/png&STYLES=default></td>\n",
       "        <td><img src=https://openwms.statkart.no/skwms1/wms.topo4?VERSION=1.3.0&REQUEST=GetMap&CRS=EPSG:25832&BBOX=592000,6741000,652000,6801000&WIDTH=600&HEIGHT=600&LAYERS=topo4_WMS&FORMAT=image/png&STYLES=default></td>\n",
       "        <td><img src=https://openwms.statkart.no/skwms1/wms.topo4?VERSION=1.3.0&REQUEST=GetMap&CRS=EPSG:25832&BBOX=592000,6741000,652000,6801000&WIDTH=600&HEIGHT=600&LAYERS=topo4_WMS&FORMAT=image/png&STYLES=default></td>\n",
       "    </tr>\n",
       "    <tr>\n",
       "        <td><img src=https://openwms.statkart.no/skwms1/wms.topo4?VERSION=1.3.0&REQUEST=GetMap&CRS=EPSG:25832&BBOX=592000,6741000,652000,6801000&WIDTH=600&HEIGHT=600&LAYERS=topo4_WMS&FORMAT=image/png&STYLES=default></td>\n",
       "        <td><img src=https://openwms.statkart.no/skwms1/wms.topo4?VERSION=1.3.0&REQUEST=GetMap&CRS=EPSG:25832&BBOX=592000,6741000,652000,6801000&WIDTH=600&HEIGHT=600&LAYERS=topo4_WMS&FORMAT=image/png&STYLES=default></td>\n",
       "        <td><img src=https://openwms.statkart.no/skwms1/wms.topo4?VERSION=1.3.0&REQUEST=GetMap&CRS=EPSG:25832&BBOX=592000,6741000,652000,6801000&WIDTH=600&HEIGHT=600&LAYERS=topo4_WMS&FORMAT=image/png&STYLES=default></td>\n",
       "    </tr>\n",
       "</table>"
      ],
      "text/plain": [
       "<IPython.core.display.Markdown object>"
      ]
     },
     "execution_count": 7,
     "metadata": {},
     "output_type": "execute_result"
    }
   ],
   "source": [
    "# Mer lesbart alternativ: bruk av html-kode som input til md-funksjonen\n",
    "\n",
    "md(f\"\"\"\n",
    "<table>\n",
    "    <tr>\n",
    "        <td><img src={url}></td>\n",
    "        <td><img src={url}></td>\n",
    "        <td><img src={url}></td>\n",
    "    </tr>\n",
    "    <tr>\n",
    "        <td><img src={url}></td>\n",
    "        <td><img src={url}></td>\n",
    "        <td><img src={url}></td>\n",
    "    </tr>\n",
    "    <tr>\n",
    "        <td><img src={url}></td>\n",
    "        <td><img src={url}></td>\n",
    "        <td><img src={url}></td>\n",
    "    </tr>\n",
    "</table>\"\"\")"
   ]
  }
 ],
 "metadata": {
  "kernelspec": {
   "display_name": "Python 3 (ipykernel)",
   "language": "python",
   "name": "python3"
  },
  "language_info": {
   "codemirror_mode": {
    "name": "ipython",
    "version": 3
   },
   "file_extension": ".py",
   "mimetype": "text/x-python",
   "name": "python",
   "nbconvert_exporter": "python",
   "pygments_lexer": "ipython3",
   "version": "3.9.7"
  }
 },
 "nbformat": 4,
 "nbformat_minor": 5
}
