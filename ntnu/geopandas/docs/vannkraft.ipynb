{
 "cells": [
  {
   "cell_type": "markdown",
   "id": "extreme-trailer",
   "metadata": {},
   "source": [
    "# WFS - Web Feature Service\n",
    "\n",
    "Eksempel på bruk av en offentlig tilgjengelig WFS-tjeneste:\n",
    "- [Vannkraft WFS](https://kartkatalog.geonorge.no/metadata/vannkraft-wfs/4d65f0a5-e2c5-493c-b641-73c24577f685)\n",
    "\n",
    "\n",
    "Denne presentasjonen kan lastes ned som Jupter Notebook-fil (høyreklikk, lagre som ..):\n",
    "\n",
    "- [vannkraft.ipynb](docs/vannkraft.ipynb)\n",
    "\n",
    "<pre>\n",
    "NTNU 13.04.2021 - Sverre Stikbakke\n",
    "</pre>"
   ]
  },
  {
   "cell_type": "code",
   "execution_count": 1,
   "id": "parliamentary-columbia",
   "metadata": {
    "tags": []
   },
   "outputs": [],
   "source": [
    "import requests            # for å sende http-kall\n",
    "import xml.dom.minidom     # for å håndtere xml-filer\n",
    "import geopandas as gpd    # for å vise GML-filer som kart"
   ]
  },
  {
   "cell_type": "markdown",
   "id": "laughing-xerox",
   "metadata": {},
   "source": [
    "### Funksjon som sender kall til WFS-tjenesten\n",
    "- url: url til WFS-tjeneste\n",
    "- request: XML tekst-streng, kodet som byte-string med encode-funksjon\n",
    "- outfile: filnavn på XML/GML-fil"
   ]
  },
  {
   "cell_type": "code",
   "execution_count": 2,
   "id": "moving-differential",
   "metadata": {},
   "outputs": [],
   "source": [
    "def wfs_request(url, request, outfile):\n",
    "    response = requests.post(url, request)\n",
    "    doc = xml.dom.minidom.parseString(response.content.decode())\n",
    "    xml_response = doc.toprettyxml()\n",
    "    with open(outfile, 'w', encoding = 'utf-8') as f:\n",
    "        f.write(xml_response)"
   ]
  },
  {
   "cell_type": "markdown",
   "id": "natural-letter",
   "metadata": {},
   "source": [
    "## Url til tjenesten"
   ]
  },
  {
   "cell_type": "code",
   "execution_count": 3,
   "id": "liquid-fluid",
   "metadata": {
    "tags": []
   },
   "outputs": [],
   "source": [
    "url = 'https://wfs.geonorge.no/skwms1/wfs.vannkraft'"
   ]
  },
  {
   "cell_type": "markdown",
   "id": "registered-capitol",
   "metadata": {},
   "source": [
    "## GetCapabilities-kall\n",
    "\n",
    "Utformingen av dette kallet er helt uavhengig av innholdet i tjenesten. Det brukes derfor samme kall til alle tjenester.\n",
    "Vi er spesielt interessert i resultatet under `FeatureNameList`."
   ]
  },
  {
   "cell_type": "code",
   "execution_count": 4,
   "id": "opening-graphics",
   "metadata": {
    "tags": []
   },
   "outputs": [],
   "source": [
    "getcapabilities = \"\"\"<?xml version=\"1.0\" encoding=\"UTF-8\"?>\n",
    "<GetCapabilities\n",
    "  service = \"WFS\"\n",
    "  version = \"2.0.0\"\n",
    "  xmlns = \"http://www.opengis.net/wfs/2.0\"\n",
    "  xmlns:xsi = \"http://www.w3.org/2001/XMLSchema-instance\"\n",
    "  xsi:schemaLocation = \"http://www.opengis.net/wfs http://schemas.opengis.net/wfs/2.0/wfs.xsd\"/>\n",
    "\"\"\".encode()"
   ]
  },
  {
   "cell_type": "markdown",
   "id": "helpful-compromise",
   "metadata": {},
   "source": [
    "## DescribeFeatureType\n",
    "\n",
    "Dette kallet tilpasses den aktuelle tjenesten basert på resultatet av GetCapabilities-kallet.\n",
    "\n",
    "- XML namespace, her: `xmlns:app=\"http://skjema.geonorge.no/SOSI/produktspesifikasjon/Vannkraft/1.3\"`\n",
    "- TypeName, her: `app:InnsjøRegulert`\n",
    "\n",
    "Resultatet av kallet beskriver hvilke egenskaper (attributter) den aktuelle objekttypen (TypeName) har.\n"
   ]
  },
  {
   "cell_type": "code",
   "execution_count": 5,
   "id": "international-tattoo",
   "metadata": {
    "tags": []
   },
   "outputs": [],
   "source": [
    "describefeaturetype = \"\"\"<?xml version=\"1.0\" encoding=\"UTF-8\"?>\n",
    "<DescribeFeatureType\n",
    "  service = \"WFS\"\n",
    "  version = \"2.0.0\"\n",
    "  xmlns = \"http://www.opengis.net/wfs/2.0\"\n",
    "  xmlns:app =\"http://skjema.geonorge.no/SOSI/produktspesifikasjon/Vannkraft/1.3\"\n",
    "  xmlns:xsi = \"http://www.w3.org/2001/XMLSchema-instance\"\n",
    "  xsi:schemaLocation = \"http://www.opengis.net/wfs/2.0 http://schemas.opengis.net/wfs/2.0/wfs.xsd\">\n",
    "  <TypeName>app:InnsjøRegulert</TypeName>\n",
    "</DescribeFeatureType>\n",
    "\"\"\".encode()"
   ]
  },
  {
   "cell_type": "markdown",
   "id": "aggressive-lover",
   "metadata": {},
   "source": [
    "## GetFeature - uten Filter Encoding\n",
    "\n",
    "Dette kallet henter objekter fra tjenesten. Namespace og Typename må spesifiseres.\n",
    "Her er det ikke noen spesifisering av hvordan objekter skal velges ut. Resultatet blir derfor tilfeldig, men det kan være en første test på å få ut et objekt fra tjenesten. Kallet spør i utgangspunktet etter alle objekter av den aktuelle objekttypen. Det er derfor viktig å begrense antallet objekter med `count`. Legg merke til:\n",
    "- wfs:Query\n",
    "- typeNames\n",
    "- srsName"
   ]
  },
  {
   "cell_type": "code",
   "execution_count": 6,
   "id": "furnished-violin",
   "metadata": {
    "tags": []
   },
   "outputs": [],
   "source": [
    "getfeature = \"\"\"<?xml version=\"1.0\" encoding=\"UTF-8\"?>\n",
    "<GetFeature\n",
    "  service = \"WFS\"\n",
    "  version = \"2.0.0\"\n",
    "  count = \"1\"\n",
    "  xmlns = \"http://www.opengis.net/wfs/2.0\"\n",
    "  xmlns:app=\"http://skjema.geonorge.no/SOSI/produktspesifikasjon/Vannkraft/1.3\">\n",
    "  <Query typeNames = \"app:InnsjøRegulert\" srsName=\"urn:ogc:def:crs:EPSG::25832\">\n",
    "  </Query>\n",
    "</GetFeature>\n",
    "\"\"\".encode()"
   ]
  },
  {
   "cell_type": "markdown",
   "id": "cellular-evolution",
   "metadata": {},
   "source": [
    "## GetFeature - med Filter Encoding\n",
    "\n",
    "Dette kallet er utvidet med et `fes:Filter`-element. Filteret er av type BBOX som er oppgitt som en `gml:Envelope`.\n",
    "`fes:ValueReference` henviser til `område` som er navnet på geometri-egenskapen i objekttypen. Denne opplysningen kunne vi finne basert på resultatet av DescribeFeatureType-kallet, under `InnsjøRegulert`. Legg merke til at kallet også er utvidet med to nye namespaces:\n",
    "\n",
    "- xmlns:fes, for Filter Encoding\n",
    "- xmlns:gml, for GML\n"
   ]
  },
  {
   "cell_type": "code",
   "execution_count": 7,
   "id": "scientific-combat",
   "metadata": {},
   "outputs": [],
   "source": [
    "getfeatureBBOX = \"\"\"<?xml version=\"1.0\" encoding=\"UTF-8\"?>\n",
    "<GetFeature\n",
    "  version = \"2.0.0\"\n",
    "  xmlns = \"http://www.opengis.net/wfs/2.0\"\n",
    "  xmlns:fes = \"http://www.opengis.net/fes/2.0\"\n",
    "  xmlns:gml=\"http://www.opengis.net/gml/3.2\"\n",
    "  xmlns:app=\"http://skjema.geonorge.no/SOSI/produktspesifikasjon/Vannkraft/1.3\">\n",
    "  <Query typeNames = \"app:InnsjøRegulert\"  srsName=\"urn:ogc:def:crs:EPSG::25832\">\n",
    "    <fes:Filter>\n",
    "      <fes:BBOX>\n",
    "        <fes:ValueReference>område</fes:ValueReference>\n",
    "        <gml:Envelope srsName=\"urn:ogc:def:crs:EPSG::25832\">\n",
    "          <gml:lowerCorner>586500 6735500</gml:lowerCorner>\n",
    "          <gml:upperCorner>596500 6745500</gml:upperCorner>\n",
    "        </gml:Envelope>\n",
    "      </fes:BBOX>\n",
    "    </fes:Filter>\n",
    "  </Query>\n",
    "</GetFeature>\n",
    "\"\"\".encode()"
   ]
  },
  {
   "cell_type": "markdown",
   "id": "patient-keyboard",
   "metadata": {},
   "source": [
    "## Utføring av kallene"
   ]
  },
  {
   "cell_type": "code",
   "execution_count": 8,
   "id": "played-basis",
   "metadata": {},
   "outputs": [],
   "source": [
    "wfs_request(url, getcapabilities, 'getcapabilities.xml')"
   ]
  },
  {
   "cell_type": "code",
   "execution_count": 9,
   "id": "weekly-interface",
   "metadata": {},
   "outputs": [],
   "source": [
    "wfs_request(url, describefeaturetype, 'describefeaturetype.xml')"
   ]
  },
  {
   "cell_type": "code",
   "execution_count": 10,
   "id": "vital-registration",
   "metadata": {},
   "outputs": [],
   "source": [
    "# wfs_request(url, getfeature, 'features.gml')"
   ]
  },
  {
   "cell_type": "code",
   "execution_count": 11,
   "id": "identified-packet",
   "metadata": {},
   "outputs": [],
   "source": [
    "wfs_request(url, getfeatureBBOX, 'features.gml')"
   ]
  },
  {
   "cell_type": "markdown",
   "id": "wooden-disaster",
   "metadata": {},
   "source": [
    "## Presentasjon av resultat-fil"
   ]
  },
  {
   "cell_type": "code",
   "execution_count": 12,
   "id": "invalid-setup",
   "metadata": {},
   "outputs": [],
   "source": [
    "# skjuler warnings i cellen nedenfor\n",
    "import warnings\n",
    "warnings.filterwarnings('ignore')"
   ]
  },
  {
   "cell_type": "code",
   "execution_count": 13,
   "id": "radio-corps",
   "metadata": {
    "tags": []
   },
   "outputs": [],
   "source": [
    "features = gpd.read_file('features.gml', download_schema=\"no\")"
   ]
  },
  {
   "cell_type": "code",
   "execution_count": 14,
   "id": "incorporate-movie",
   "metadata": {
    "tags": []
   },
   "outputs": [
    {
     "name": "stdout",
     "output_type": "stream",
     "text": [
      "<class 'geopandas.geodataframe.GeoDataFrame'>\n",
      "RangeIndex: 1 entries, 0 to 0\n",
      "Data columns (total 24 columns):\n",
      " #   Column                     Non-Null Count  Dtype   \n",
      "---  ------                     --------------  -----   \n",
      " 0   gml_id                     1 non-null      object  \n",
      " 1   lokalId                    1 non-null      object  \n",
      " 2   navnerom                   1 non-null      object  \n",
      " 3   versjonId                  1 non-null      float64 \n",
      " 4   datauttaksdato             1 non-null      object  \n",
      " 5   status                     1 non-null      object  \n",
      " 6   konsesjonStatus            1 non-null      int64   \n",
      " 7   konsesjonStatusDato        1 non-null      object  \n",
      " 8   idriftsattAar              1 non-null      int64   \n",
      " 9   vannkraftverkNr            1 non-null      int64   \n",
      " 10  vannkraftverkNavn          1 non-null      object  \n",
      " 11  elvenavnHierarki           1 non-null      object  \n",
      " 12  magasinNr                  1 non-null      int64   \n",
      " 13  magasinNavn                1 non-null      object  \n",
      " 14  magasinAreal               1 non-null      float64 \n",
      " 15  volumOppdemt               1 non-null      int64   \n",
      " 16  magasinKategori            1 non-null      int64   \n",
      " 17  lavesteRegulerteVannstand  1 non-null      float64 \n",
      " 18  høyesteRegulerteVannstand  1 non-null      float64 \n",
      " 19  magasinFormål              1 non-null      object  \n",
      " 20  kdbNr                      1 non-null      int64   \n",
      " 21  spID                       1 non-null      int64   \n",
      " 22  delfeltNr                  1 non-null      int64   \n",
      " 23  geometry                   1 non-null      geometry\n",
      "dtypes: float64(4), geometry(1), int64(9), object(10)\n",
      "memory usage: 320.0+ bytes\n"
     ]
    }
   ],
   "source": [
    "features.info()"
   ]
  },
  {
   "cell_type": "code",
   "execution_count": 15,
   "id": "recovered-thought",
   "metadata": {
    "tags": []
   },
   "outputs": [
    {
     "data": {
      "text/html": [
       "<div>\n",
       "<style scoped>\n",
       "    .dataframe tbody tr th:only-of-type {\n",
       "        vertical-align: middle;\n",
       "    }\n",
       "\n",
       "    .dataframe tbody tr th {\n",
       "        vertical-align: top;\n",
       "    }\n",
       "\n",
       "    .dataframe thead th {\n",
       "        text-align: right;\n",
       "    }\n",
       "</style>\n",
       "<table border=\"1\" class=\"dataframe\">\n",
       "  <thead>\n",
       "    <tr style=\"text-align: right;\">\n",
       "      <th></th>\n",
       "      <th>minx</th>\n",
       "      <th>miny</th>\n",
       "      <th>maxx</th>\n",
       "      <th>maxy</th>\n",
       "    </tr>\n",
       "  </thead>\n",
       "  <tbody>\n",
       "    <tr>\n",
       "      <th>0</th>\n",
       "      <td>574719.999</td>\n",
       "      <td>6677539.569</td>\n",
       "      <td>630586.005</td>\n",
       "      <td>6779617.995</td>\n",
       "    </tr>\n",
       "  </tbody>\n",
       "</table>\n",
       "</div>"
      ],
      "text/plain": [
       "         minx         miny        maxx         maxy\n",
       "0  574719.999  6677539.569  630586.005  6779617.995"
      ]
     },
     "execution_count": 15,
     "metadata": {},
     "output_type": "execute_result"
    }
   ],
   "source": [
    "features.bounds"
   ]
  },
  {
   "cell_type": "code",
   "execution_count": 16,
   "id": "hired-student",
   "metadata": {},
   "outputs": [
    {
     "data": {
      "text/html": [
       "<div>\n",
       "<style scoped>\n",
       "    .dataframe tbody tr th:only-of-type {\n",
       "        vertical-align: middle;\n",
       "    }\n",
       "\n",
       "    .dataframe tbody tr th {\n",
       "        vertical-align: top;\n",
       "    }\n",
       "\n",
       "    .dataframe thead th {\n",
       "        text-align: right;\n",
       "    }\n",
       "</style>\n",
       "<table border=\"1\" class=\"dataframe\">\n",
       "  <thead>\n",
       "    <tr style=\"text-align: right;\">\n",
       "      <th></th>\n",
       "      <th>gml_id</th>\n",
       "      <th>lokalId</th>\n",
       "      <th>navnerom</th>\n",
       "      <th>versjonId</th>\n",
       "      <th>datauttaksdato</th>\n",
       "      <th>status</th>\n",
       "      <th>konsesjonStatus</th>\n",
       "      <th>konsesjonStatusDato</th>\n",
       "      <th>idriftsattAar</th>\n",
       "      <th>vannkraftverkNr</th>\n",
       "      <th>...</th>\n",
       "      <th>magasinAreal</th>\n",
       "      <th>volumOppdemt</th>\n",
       "      <th>magasinKategori</th>\n",
       "      <th>lavesteRegulerteVannstand</th>\n",
       "      <th>høyesteRegulerteVannstand</th>\n",
       "      <th>magasinFormål</th>\n",
       "      <th>kdbNr</th>\n",
       "      <th>spID</th>\n",
       "      <th>delfeltNr</th>\n",
       "      <th>geometry</th>\n",
       "    </tr>\n",
       "  </thead>\n",
       "  <tbody>\n",
       "    <tr>\n",
       "      <th>0</th>\n",
       "      <td>app.innsjoregulert.649</td>\n",
       "      <td>3e5fb09f-1a45-44b1-82d9-d7a6bb061d9a</td>\n",
       "      <td>http://skjema.geonorge.no/SOSI/produktspesifik...</td>\n",
       "      <td>1.3</td>\n",
       "      <td>2021-04-13T05:36:46</td>\n",
       "      <td>D</td>\n",
       "      <td>5</td>\n",
       "      <td>2591-06-08T16:23:20</td>\n",
       "      <td>1912</td>\n",
       "      <td>349</td>\n",
       "      <td>...</td>\n",
       "      <td>375.82</td>\n",
       "      <td>1312</td>\n",
       "      <td>1</td>\n",
       "      <td>119.33</td>\n",
       "      <td>122.94</td>\n",
       "      <td>Kraftproduksjon</td>\n",
       "      <td>794</td>\n",
       "      <td>422</td>\n",
       "      <td>1905</td>\n",
       "      <td>POLYGON ((574882.001 6779599.002, 574910.987 6...</td>\n",
       "    </tr>\n",
       "  </tbody>\n",
       "</table>\n",
       "<p>1 rows × 24 columns</p>\n",
       "</div>"
      ],
      "text/plain": [
       "                   gml_id                               lokalId  \\\n",
       "0  app.innsjoregulert.649  3e5fb09f-1a45-44b1-82d9-d7a6bb061d9a   \n",
       "\n",
       "                                            navnerom  versjonId  \\\n",
       "0  http://skjema.geonorge.no/SOSI/produktspesifik...        1.3   \n",
       "\n",
       "        datauttaksdato status  konsesjonStatus  konsesjonStatusDato  \\\n",
       "0  2021-04-13T05:36:46      D                5  2591-06-08T16:23:20   \n",
       "\n",
       "   idriftsattAar  vannkraftverkNr  ... magasinAreal volumOppdemt  \\\n",
       "0           1912              349  ...       375.82         1312   \n",
       "\n",
       "   magasinKategori lavesteRegulerteVannstand  høyesteRegulerteVannstand  \\\n",
       "0                1                    119.33                     122.94   \n",
       "\n",
       "     magasinFormål  kdbNr  spID  delfeltNr  \\\n",
       "0  Kraftproduksjon    794   422       1905   \n",
       "\n",
       "                                            geometry  \n",
       "0  POLYGON ((574882.001 6779599.002, 574910.987 6...  \n",
       "\n",
       "[1 rows x 24 columns]"
      ]
     },
     "execution_count": 16,
     "metadata": {},
     "output_type": "execute_result"
    }
   ],
   "source": [
    "features"
   ]
  },
  {
   "cell_type": "code",
   "execution_count": 17,
   "id": "early-slovakia",
   "metadata": {
    "tags": []
   },
   "outputs": [
    {
     "data": {
      "text/plain": [
       "<AxesSubplot:>"
      ]
     },
     "execution_count": 17,
     "metadata": {},
     "output_type": "execute_result"
    },
    {
     "data": {
      "image/png": "[encoded data removed]",
      "text/plain": [
       "<Figure size 720x720 with 1 Axes>"
      ]
     },
     "metadata": {
      "needs_background": "light"
     },
     "output_type": "display_data"
    }
   ],
   "source": [
    "features.plot(figsize=(10,10))"
   ]
  }
 ],
 "metadata": {
  "kernelspec": {
   "display_name": "Python 3",
   "language": "python",
   "name": "python3"
  },
  "language_info": {
   "codemirror_mode": {
    "name": "ipython",
    "version": 3
   },
   "file_extension": ".py",
   "mimetype": "text/x-python",
   "name": "python",
   "nbconvert_exporter": "python",
   "pygments_lexer": "ipython3",
   "version": "3.9.2"
  }
 },
 "nbformat": 4,
 "nbformat_minor": 5
}
